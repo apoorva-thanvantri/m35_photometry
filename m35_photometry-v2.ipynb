{
 "cells": [
  {
   "cell_type": "code",
   "execution_count": 1,
   "metadata": {},
   "outputs": [],
   "source": [
    "import glob\n",
    "import time\n",
    "import warnings\n",
    "\n",
    "from astropy.coordinates import SkyCoord\n",
    "from astropy.io import fits\n",
    "from astropy.modeling.fitting import LevMarLSQFitter\n",
    "from astropy.nddata import NDData\n",
    "from astropy.stats import sigma_clipped_stats, gaussian_sigma_to_fwhm\n",
    "from astropy.table import QTable\n",
    "from astropy.time import Time\n",
    "from astropy.utils.exceptions import AstropyUserWarning\n",
    "from astropy.visualization import simple_norm\n",
    "from astropy.wcs import WCS\n",
    "from photutils import extract_stars, EPSFBuilder, EPSFModel\n",
    "from photutils import DBSCANGroup, MMMBackground, BasicPSFPhotometry\n",
    "from photutils import CircularAperture, aperture_photometry"
   ]
  },
  {
   "cell_type": "code",
   "execution_count": 2,
   "metadata": {},
   "outputs": [],
   "source": [
    "stars_tbl = QTable.read('gaia_catalog.ecsv')\n",
    "epsf_data = fits.getdata('epsf-v2.fits')\n",
    "epsf = EPSFModel(epsf_data, oversampling=4.)"
   ]
  },
  {
   "cell_type": "code",
   "execution_count": 3,
   "metadata": {},
   "outputs": [],
   "source": [
    "star_skycoord = SkyCoord(92.126041, 24.441154, unit='deg', frame='icrs')"
   ]
  },
  {
   "cell_type": "code",
   "execution_count": 4,
   "metadata": {},
   "outputs": [
    {
     "name": "stdout",
     "output_type": "stream",
     "text": [
      "0 0.543630838394165\n",
      "1 0.18242931365966797\n",
      "2 0.17327094078063965\n",
      "3 0.17203116416931152\n",
      "4 0.17411112785339355\n",
      "5 0.1727747917175293\n",
      "6 0.169586181640625\n",
      "7 0.1713118553161621\n",
      "8 0.1785449981689453\n",
      "9 0.1663210391998291\n",
      "10 0.18015599250793457\n",
      "11 0.17093706130981445\n",
      "12 0.1802377700805664\n",
      "13 0.1722409725189209\n",
      "14 0.18394112586975098\n",
      "15 0.17879295349121094\n",
      "16 0.18547892570495605\n",
      "17 0.17649388313293457\n",
      "18 0.17491483688354492\n",
      "19 0.16972684860229492\n",
      "20 0.16388607025146484\n",
      "21 0.1665949821472168\n",
      "22 0.17425918579101562\n",
      "23 0.18643927574157715\n",
      "24 0.17079710960388184\n",
      "25 0.18217182159423828\n",
      "26 0.17964696884155273\n",
      "27 0.16650009155273438\n",
      "28 0.18002581596374512\n",
      "29 0.18114304542541504\n",
      "30 0.1763927936553955\n",
      "31 0.16865205764770508\n",
      "32 0.1568896770477295\n",
      "33 0.17071819305419922\n",
      "34 0.16619873046875\n",
      "35 0.16480588912963867\n",
      "36 0.16931796073913574\n",
      "37 0.18186402320861816\n",
      "38 0.18151402473449707\n",
      "39 0.17888879776000977\n",
      "40 0.16852831840515137\n",
      "41 0.16555500030517578\n",
      "42 0.16945219039916992\n",
      "43 0.17102909088134766\n",
      "44 0.16970300674438477\n",
      "45 0.1778109073638916\n",
      "46 0.1706981658935547\n",
      "47 0.16380000114440918\n",
      "48 0.16718387603759766\n",
      "49 0.17783498764038086\n",
      "50 0.17087388038635254\n",
      "51 0.16679811477661133\n",
      "52 0.17496323585510254\n",
      "53 0.16775774955749512\n",
      "54 0.17133808135986328\n",
      "55 0.1750500202178955\n",
      "56 0.16683197021484375\n",
      "57 0.16773390769958496\n",
      "58 0.17852282524108887\n",
      "59 0.16540288925170898\n",
      "60 0.18227028846740723\n",
      "61 0.19022369384765625\n",
      "63 0.16985225677490234\n",
      "64 0.17243194580078125\n",
      "65 0.17271709442138672\n",
      "66 0.17014098167419434\n",
      "67 0.17191791534423828\n",
      "68 0.1610097885131836\n",
      "69 0.17482399940490723\n",
      "70 0.1642920970916748\n",
      "71 0.16826105117797852\n",
      "72 0.16673994064331055\n",
      "73 0.16843962669372559\n",
      "74 0.1735820770263672\n",
      "75 0.16989898681640625\n",
      "76 0.17391633987426758\n",
      "77 0.16461706161499023\n",
      "78 0.17659401893615723\n",
      "79 0.168287992477417\n",
      "80 0.1574399471282959\n",
      "81 0.1607820987701416\n",
      "82 0.1599419116973877\n",
      "83 0.17404389381408691\n",
      "84 0.17487001419067383\n",
      "85 0.15076565742492676\n",
      "86 0.16226696968078613\n",
      "87 0.1571660041809082\n",
      "88 0.16077494621276855\n",
      "89 0.16579723358154297\n",
      "90 0.16013526916503906\n",
      "91 0.16497278213500977\n",
      "92 0.16291594505310059\n",
      "93 0.1574409008026123\n",
      "94 0.15994811058044434\n",
      "95 0.16433095932006836\n",
      "96 0.16161203384399414\n",
      "97 0.1614222526550293\n",
      "98 0.15883207321166992\n",
      "99 0.16340398788452148\n",
      "100 0.15823578834533691\n",
      "101 0.16052722930908203\n",
      "102 0.15801095962524414\n",
      "103 0.16312885284423828\n",
      "104 0.15915703773498535\n",
      "105 0.15845823287963867\n",
      "106 0.17348003387451172\n",
      "107 0.16889095306396484\n",
      "108 0.16126394271850586\n",
      "109 0.16477227210998535\n",
      "110 0.16467905044555664\n",
      "111 0.1620030403137207\n",
      "112 0.1728837490081787\n",
      "113 0.15768218040466309\n",
      "114 0.1638951301574707\n",
      "115 0.1620159149169922\n",
      "116 0.16145777702331543\n",
      "117 0.15685391426086426\n",
      "118 0.1680278778076172\n",
      "119 0.17088103294372559\n",
      "120 0.15691590309143066\n",
      "121 0.16712117195129395\n",
      "122 0.17752718925476074\n",
      "123 0.1592268943786621\n",
      "124 0.16707777976989746\n",
      "125 0.17389798164367676\n",
      "126 0.1679091453552246\n",
      "127 0.16903901100158691\n",
      "128 0.1686999797821045\n",
      "129 0.17353487014770508\n",
      "130 0.17265009880065918\n",
      "131 0.17618680000305176\n",
      "132 0.1662909984588623\n",
      "133 0.1618790626525879\n",
      "134 0.1543571949005127\n",
      "135 0.1681060791015625\n",
      "136 0.1697700023651123\n",
      "137 0.16241002082824707\n",
      "138 0.16432714462280273\n",
      "139 0.16343188285827637\n",
      "140 0.16715478897094727\n",
      "141 0.15682315826416016\n",
      "142 0.1653118133544922\n",
      "143 0.1822810173034668\n",
      "144 0.171983003616333\n",
      "145 0.17554211616516113\n",
      "146 0.15949010848999023\n",
      "147 0.16379499435424805\n",
      "148 0.16444706916809082\n",
      "149 0.16970300674438477\n",
      "150 0.16936016082763672\n",
      "151 0.1653590202331543\n",
      "152 0.16540980339050293\n",
      "153 0.162139892578125\n",
      "154 0.1611189842224121\n",
      "155 0.16189908981323242\n",
      "156 0.16031885147094727\n",
      "157 0.16070985794067383\n",
      "158 0.15759897232055664\n",
      "159 0.16190600395202637\n",
      "160 0.16332316398620605\n",
      "161 0.16878724098205566\n",
      "162 0.1656029224395752\n",
      "163 0.15347790718078613\n",
      "164 0.1649479866027832\n",
      "165 0.1695101261138916\n",
      "166 0.1570582389831543\n",
      "167 0.1640019416809082\n",
      "168 0.2047581672668457\n",
      "169 0.1726551055908203\n",
      "170 0.1612699031829834\n",
      "171 0.15822124481201172\n",
      "172 0.15961503982543945\n",
      "173 0.16208624839782715\n",
      "174 0.16321206092834473\n",
      "175 0.15462303161621094\n",
      "176 0.15583586692810059\n",
      "177 0.17386889457702637\n",
      "178 0.1675398349761963\n",
      "179 0.17807579040527344\n",
      "180 0.19394707679748535\n",
      "181 0.17836999893188477\n",
      "182 0.17584991455078125\n",
      "183 0.16684484481811523\n",
      "184 0.17671704292297363\n",
      "185 0.17689085006713867\n",
      "186 0.18171477317810059\n",
      "187 0.17980384826660156\n",
      "188 0.17898893356323242\n",
      "189 0.17545104026794434\n",
      "190 0.16714787483215332\n",
      "191 0.17871475219726562\n",
      "192 0.20256304740905762\n",
      "193 0.1856400966644287\n",
      "194 0.21211600303649902\n",
      "195 0.19791817665100098\n",
      "196 0.18068289756774902\n",
      "197 0.18966889381408691\n",
      "198 0.1730031967163086\n"
     ]
    }
   ],
   "source": [
    "times = []\n",
    "psf_fluxes = []\n",
    "psf_uncertainties = []\n",
    "aperture_fluxes = []\n",
    "residual_fluxes = []\n",
    "\n",
    "warnings.filterwarnings('ignore', category=AstropyUserWarning)\n",
    "\n",
    "filepaths = sorted(glob.glob('superstampImages/*'))\n",
    "for i, filepath in enumerate(filepaths):\n",
    "    if 'bjd2456768.8805' in filepath:\n",
    "        continue\n",
    "        \n",
    "    start_time = time.time()\n",
    "    \n",
    "    hdulist = fits.open(filepath)\n",
    "    data = hdulist[0].data\n",
    "    header = hdulist[0].header\n",
    "    wcs = WCS(header)\n",
    "    times.append(header['MIDTIME'])\n",
    "    \n",
    "    mean_val, median_val, std_val = sigma_clipped_stats(data, sigma=2.)\n",
    "    bkg = 2.5 * median_val - 1.5 * mean_val\n",
    "    data -= bkg\n",
    "    \n",
    "    grouper = DBSCANGroup(gaussian_sigma_to_fwhm)\n",
    "    \n",
    "    #epsf.normalization_correction = 1.0 / (epsf.oversampling[0] ** 2)\n",
    "    psf_model = epsf\n",
    "    \n",
    "    bkg_est = MMMBackground()\n",
    "    fitter = LevMarLSQFitter()\n",
    "   \n",
    "    psf_phot = BasicPSFPhotometry(group_maker=grouper, bkg_estimator=bkg_est,\n",
    "                                  psf_model=psf_model, fitter=fitter, fitshape=(7, 7),\n",
    "                                  aperture_radius=3)\n",
    "    \n",
    "    xpos, ypos = wcs.world_to_pixel(star_skycoord)\n",
    "    star_pos = QTable(names=['x_0', 'y_0'], data=[[xpos], [ypos]])\n",
    "\n",
    "    psf_tbl = psf_phot(data, init_guesses=star_pos)\n",
    "    psf_fluxes.append(psf_tbl['flux_fit'])\n",
    "    psf_uncertainties.append(psf_tbl['flux_unc'])\n",
    "                    \n",
    "    # perform aperture photometry on the residuals to account for what the model missed\n",
    "    position = (psf_tbl['x_fit'][0], psf_tbl['y_fit'][0])\n",
    "    aperture = CircularAperture(position, r=3.)\n",
    "    \n",
    "    aper_tbl = aperture_photometry(data, aperture)\n",
    "    aperture_fluxes.append(aper_tbl['aperture_sum'])\n",
    "    \n",
    "    residual_image_star1 = psf_phot.get_residual_image()\n",
    "    residual_aper_tbl = aperture_photometry(residual_image_star1, aperture)\n",
    "    residual_fluxes.append(residual_aper_tbl['aperture_sum'])\n",
    "    \n",
    "    print(i, time.time() - start_time)"
   ]
  },
  {
   "cell_type": "code",
   "execution_count": 5,
   "metadata": {},
   "outputs": [],
   "source": [
    "times = Time(times, format='jd', scale='tcb')\n",
    "psf_fluxes = np.array(psf_fluxes)\n",
    "psf_uncertainties = np.array(psf_uncertainties)\n",
    "aperture_fluxes = np.array(aperture_fluxes)\n",
    "residual_fluxes = np.array(residual_fluxes)"
   ]
  },
  {
   "cell_type": "code",
   "execution_count": 6,
   "metadata": {},
   "outputs": [
    {
     "data": {
      "text/plain": [
       "(0.93, 1.05)"
      ]
     },
     "execution_count": 6,
     "metadata": {},
     "output_type": "execute_result"
    },
    {
     "data": {
      "image/png": "[encoded data removed]",
      "text/plain": [
       "<Figure size 432x288 with 1 Axes>"
      ]
     },
     "metadata": {
      "needs_background": "light"
     },
     "output_type": "display_data"
    }
   ],
   "source": [
    "plt.plot(times.jd, psf_fluxes / np.median(psf_fluxes), 'o')\n",
    "plt.ylim(0.93, 1.05)"
   ]
  },
  {
   "cell_type": "code",
   "execution_count": 7,
   "metadata": {},
   "outputs": [
    {
     "data": {
      "text/plain": [
       "(0.96, 1.05)"
      ]
     },
     "execution_count": 7,
     "metadata": {},
     "output_type": "execute_result"
    },
    {
     "data": {
      "image/png": "[encoded data removed]",
      "text/plain": [
       "<Figure size 432x288 with 1 Axes>"
      ]
     },
     "metadata": {
      "needs_background": "light"
     },
     "output_type": "display_data"
    }
   ],
   "source": [
    "plt.plot(times.jd, aperture_fluxes / np.median(aperture_fluxes), 'o')\n",
    "plt.ylim(0.96, 1.05)"
   ]
  },
  {
   "cell_type": "code",
   "execution_count": 8,
   "metadata": {},
   "outputs": [
    {
     "data": {
      "text/plain": [
       "[<matplotlib.lines.Line2D at 0x137b377f0>]"
      ]
     },
     "execution_count": 8,
     "metadata": {},
     "output_type": "execute_result"
    },
    {
     "data": {
      "image/png": "[encoded data removed]",
      "text/plain": [
       "<Figure size 432x288 with 1 Axes>"
      ]
     },
     "metadata": {
      "needs_background": "light"
     },
     "output_type": "display_data"
    }
   ],
   "source": [
    "val = psf_fluxes + residual_fluxes\n",
    "plt.plot(times.jd, val / np.median(val), 'o')"
   ]
  },
  {
   "cell_type": "code",
   "execution_count": 9,
   "metadata": {},
   "outputs": [
    {
     "data": {
      "text/plain": [
       "[<matplotlib.lines.Line2D at 0x137b7c970>]"
      ]
     },
     "execution_count": 9,
     "metadata": {},
     "output_type": "execute_result"
    },
    {
     "data": {
      "image/png": "[encoded data removed]",
      "text/plain": [
       "<Figure size 432x288 with 1 Axes>"
      ]
     },
     "metadata": {
      "needs_background": "light"
     },
     "output_type": "display_data"
    }
   ],
   "source": [
    "plt.plot(times.jd, residual_fluxes, 'o')"
   ]
  },
  {
   "cell_type": "code",
   "execution_count": null,
   "metadata": {},
   "outputs": [],
   "source": []
  }
 ],
 "metadata": {
  "kernelspec": {
   "display_name": "Python 3",
   "language": "python",
   "name": "python3"
  },
  "language_info": {
   "codemirror_mode": {
    "name": "ipython",
    "version": 3
   },
   "file_extension": ".py",
   "mimetype": "text/x-python",
   "name": "python",
   "nbconvert_exporter": "python",
   "pygments_lexer": "ipython3",
   "version": "3.8.5"
  }
 },
 "nbformat": 4,
 "nbformat_minor": 4
}
