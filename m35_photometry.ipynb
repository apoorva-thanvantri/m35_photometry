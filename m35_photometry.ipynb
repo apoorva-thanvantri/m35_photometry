{
 "cells": [
  {
   "cell_type": "code",
   "execution_count": 1,
   "metadata": {},
   "outputs": [],
   "source": [
    "import glob\n",
    "import time\n",
    "import warnings\n",
    "\n",
    "from astropy.coordinates import SkyCoord\n",
    "from astropy.io import fits\n",
    "from astropy.modeling.fitting import LevMarLSQFitter\n",
    "from astropy.nddata import NDData\n",
    "from astropy.stats import sigma_clipped_stats, gaussian_sigma_to_fwhm\n",
    "from astropy.table import QTable\n",
    "from astropy.time import Time\n",
    "from astropy.utils.exceptions import AstropyUserWarning\n",
    "from astropy.visualization import simple_norm\n",
    "from astropy.wcs import WCS\n",
    "from photutils import extract_stars, EPSFBuilder, EPSFModel\n",
    "from photutils import DBSCANGroup, MMMBackground, BasicPSFPhotometry\n",
    "from photutils import CircularAperture, aperture_photometry"
   ]
  },
  {
   "cell_type": "code",
   "execution_count": 2,
   "metadata": {},
   "outputs": [],
   "source": [
    "stars_tbl = QTable.read('gaia_catalog.ecsv')\n",
    "epsf_data = fits.getdata('epsf.fits')\n",
    "epsf = EPSFModel(epsf_data, oversampling=4.)"
   ]
  },
  {
   "cell_type": "code",
   "execution_count": 3,
   "metadata": {},
   "outputs": [],
   "source": [
    "star_skycoord = SkyCoord(92.126041, 24.441154, unit='deg', frame='icrs')"
   ]
  },
  {
   "cell_type": "code",
   "execution_count": 4,
   "metadata": {},
   "outputs": [
    {
     "name": "stdout",
     "output_type": "stream",
     "text": [
      "0 0.4913289546966553\n",
      "1 0.20438289642333984\n",
      "2 0.17590808868408203\n",
      "3 0.16813182830810547\n",
      "4 0.17196011543273926\n",
      "5 0.16874384880065918\n",
      "6 0.17125916481018066\n",
      "7 0.17469191551208496\n",
      "8 0.16911625862121582\n",
      "9 0.1748039722442627\n",
      "10 0.1799759864807129\n",
      "11 0.17932891845703125\n",
      "12 0.16721391677856445\n",
      "13 0.17599797248840332\n",
      "14 0.17039012908935547\n",
      "15 0.17148900032043457\n",
      "16 0.2097458839416504\n",
      "17 0.17715001106262207\n",
      "18 0.1731729507446289\n",
      "19 0.17099595069885254\n",
      "20 0.17483901977539062\n",
      "21 0.18090200424194336\n",
      "22 0.1756269931793213\n",
      "23 0.17696523666381836\n",
      "24 0.17491984367370605\n",
      "25 0.1736462116241455\n",
      "26 0.1718740463256836\n",
      "27 0.17001605033874512\n",
      "28 0.17791509628295898\n",
      "29 0.17102313041687012\n",
      "30 0.18595409393310547\n",
      "31 0.16848516464233398\n",
      "32 0.17123198509216309\n",
      "33 0.1673722267150879\n",
      "34 0.17046594619750977\n",
      "35 0.17197394371032715\n",
      "36 0.17160296440124512\n",
      "37 0.17098379135131836\n",
      "38 0.17602300643920898\n",
      "39 0.17415499687194824\n",
      "40 0.1914057731628418\n",
      "41 0.1655738353729248\n",
      "42 0.17151689529418945\n",
      "43 0.17095398902893066\n",
      "44 0.17462778091430664\n",
      "45 0.17229795455932617\n",
      "46 0.1790759563446045\n",
      "47 0.16957807540893555\n",
      "48 0.16842007637023926\n",
      "49 0.19291305541992188\n",
      "50 0.1871170997619629\n",
      "51 0.17377591133117676\n",
      "52 0.1802971363067627\n",
      "53 0.17624711990356445\n",
      "54 0.18529200553894043\n",
      "55 0.18557405471801758\n",
      "56 0.19486474990844727\n",
      "57 0.1727917194366455\n",
      "58 0.1827850341796875\n",
      "59 0.1788921356201172\n",
      "60 0.17651939392089844\n",
      "61 0.17676210403442383\n",
      "63 0.16592907905578613\n",
      "64 0.16942381858825684\n",
      "65 0.17072415351867676\n",
      "66 0.1664409637451172\n",
      "67 0.16642212867736816\n",
      "68 0.17558002471923828\n",
      "69 0.16487503051757812\n",
      "70 0.16626405715942383\n",
      "71 0.17143893241882324\n",
      "72 0.16303277015686035\n",
      "73 0.17033100128173828\n",
      "74 0.1753368377685547\n",
      "75 0.17601323127746582\n",
      "76 0.17044663429260254\n",
      "77 0.17612385749816895\n",
      "78 0.18845391273498535\n",
      "79 0.17409801483154297\n",
      "80 0.17546892166137695\n",
      "81 0.17913413047790527\n",
      "82 0.17482805252075195\n",
      "83 0.18027305603027344\n",
      "84 0.17670512199401855\n",
      "85 0.16908502578735352\n",
      "86 0.1683821678161621\n",
      "87 0.17088699340820312\n",
      "88 0.18327617645263672\n",
      "89 0.18535685539245605\n",
      "90 0.16319894790649414\n",
      "91 0.17009496688842773\n",
      "92 0.16727519035339355\n",
      "93 0.16922307014465332\n",
      "94 0.18030500411987305\n",
      "95 0.18494892120361328\n",
      "96 0.18448615074157715\n",
      "97 0.17275381088256836\n",
      "98 0.1804180145263672\n",
      "99 0.17040705680847168\n",
      "100 0.1668262481689453\n",
      "101 0.1684269905090332\n",
      "102 0.16894006729125977\n",
      "103 0.1688990592956543\n",
      "104 0.1693422794342041\n",
      "105 0.18422603607177734\n",
      "106 0.16616487503051758\n",
      "107 0.1700890064239502\n",
      "108 0.1830918788909912\n",
      "109 0.1708848476409912\n",
      "110 0.17443108558654785\n",
      "111 0.1859738826751709\n",
      "112 0.17470598220825195\n",
      "113 0.1748039722442627\n",
      "114 0.1868751049041748\n",
      "115 0.17195701599121094\n",
      "116 0.1744389533996582\n",
      "117 0.18122291564941406\n",
      "118 0.18431997299194336\n",
      "119 0.17191290855407715\n",
      "120 0.16799116134643555\n",
      "121 0.17144107818603516\n",
      "122 0.16750383377075195\n",
      "123 0.17339324951171875\n",
      "124 0.17154574394226074\n",
      "125 0.1748669147491455\n",
      "126 0.1716301441192627\n",
      "127 0.16921615600585938\n",
      "128 0.1928870677947998\n",
      "129 0.2016148567199707\n",
      "130 0.1863691806793213\n",
      "131 0.1685640811920166\n",
      "132 0.1717848777770996\n",
      "133 0.1744556427001953\n",
      "134 0.16470718383789062\n",
      "135 0.17934417724609375\n",
      "136 0.16681790351867676\n",
      "137 0.1672830581665039\n",
      "138 0.16750192642211914\n",
      "139 0.17036008834838867\n",
      "140 0.16281986236572266\n",
      "141 0.16746902465820312\n",
      "142 0.16173100471496582\n",
      "143 0.17543601989746094\n",
      "144 0.18314313888549805\n",
      "145 0.17869901657104492\n",
      "146 0.17902684211730957\n",
      "147 0.1773691177368164\n",
      "148 0.1773231029510498\n",
      "149 0.1714949607849121\n",
      "150 0.17229795455932617\n",
      "151 0.17113804817199707\n",
      "152 0.16766095161437988\n",
      "153 0.17074203491210938\n",
      "154 0.17141294479370117\n",
      "155 0.19015884399414062\n",
      "156 0.16530108451843262\n",
      "157 0.17419004440307617\n",
      "158 0.16718602180480957\n",
      "159 0.16916394233703613\n",
      "160 0.1627819538116455\n",
      "161 0.16976094245910645\n",
      "162 0.16753911972045898\n",
      "163 0.17208385467529297\n",
      "164 0.16612577438354492\n",
      "165 0.1839919090270996\n",
      "166 0.18094205856323242\n",
      "167 0.16814208030700684\n",
      "168 0.17289090156555176\n",
      "169 0.17764902114868164\n",
      "170 0.17200279235839844\n",
      "171 0.18180561065673828\n",
      "172 0.1682589054107666\n",
      "173 0.17203092575073242\n",
      "174 0.1803758144378662\n",
      "175 0.17626404762268066\n",
      "176 0.1658000946044922\n",
      "177 0.1820218563079834\n",
      "178 0.20365428924560547\n",
      "179 0.17790007591247559\n",
      "180 0.17277026176452637\n",
      "181 0.17933893203735352\n",
      "182 0.17073583602905273\n",
      "183 0.16711091995239258\n",
      "184 0.17163991928100586\n",
      "185 0.17238688468933105\n",
      "186 0.16954278945922852\n",
      "187 0.16724205017089844\n",
      "188 0.16614294052124023\n",
      "189 0.16665101051330566\n",
      "190 0.16776800155639648\n",
      "191 0.1654069423675537\n",
      "192 0.17000389099121094\n",
      "193 0.15974187850952148\n",
      "194 0.1657700538635254\n",
      "195 0.16420412063598633\n",
      "196 0.16982197761535645\n",
      "197 0.1649010181427002\n",
      "198 0.16986298561096191\n"
     ]
    }
   ],
   "source": [
    "times = []\n",
    "psf_fluxes = []\n",
    "psf_uncertainties = []\n",
    "aperture_fluxes = []\n",
    "residual_fluxes = []\n",
    "\n",
    "warnings.filterwarnings('ignore', category=AstropyUserWarning)\n",
    "\n",
    "filepaths = sorted(glob.glob('superstampImages/*'))\n",
    "for i, filepath in enumerate(filepaths):\n",
    "    if 'bjd2456768.8805' in filepath:\n",
    "        continue\n",
    "        \n",
    "    start_time = time.time()\n",
    "    \n",
    "    hdulist = fits.open(filepath)\n",
    "    data = hdulist[0].data\n",
    "    header = hdulist[0].header\n",
    "    wcs = WCS(header)\n",
    "    times.append(header['MIDTIME'])\n",
    "    \n",
    "    mean_val, median_val, std_val = sigma_clipped_stats(data, sigma=2.)\n",
    "    bkg = 2.5 * median_val - 1.5 * mean_val\n",
    "    data -= bkg\n",
    "    \n",
    "    grouper = DBSCANGroup(gaussian_sigma_to_fwhm)\n",
    "    \n",
    "    epsf.normalization_correction = 1.0 / (epsf.oversampling[0] ** 2)\n",
    "    psf_model = epsf\n",
    "    \n",
    "    bkg_est = MMMBackground()\n",
    "    fitter = LevMarLSQFitter()\n",
    "   \n",
    "    psf_phot = BasicPSFPhotometry(group_maker=grouper, bkg_estimator=bkg_est,\n",
    "                                  psf_model=psf_model, fitter=fitter, fitshape=(7, 7),\n",
    "                                  aperture_radius=3)\n",
    "    \n",
    "    xpos, ypos = wcs.world_to_pixel(star_skycoord)\n",
    "    star_pos = QTable(names=['x_0', 'y_0'], data=[[xpos], [ypos]])\n",
    "\n",
    "    psf_tbl = psf_phot(data, init_guesses=star_pos)\n",
    "    psf_fluxes.append(psf_tbl['flux_fit'])\n",
    "    psf_uncertainties.append(psf_tbl['flux_unc'])\n",
    "                    \n",
    "    # perform aperture photometry on the residuals to account for what the model missed\n",
    "    position = (psf_tbl['x_fit'][0], psf_tbl['y_fit'][0])\n",
    "    aperture = CircularAperture(position, r=3.)\n",
    "    \n",
    "    aper_tbl = aperture_photometry(data, aperture)\n",
    "    aperture_fluxes.append(aper_tbl['aperture_sum'])\n",
    "    \n",
    "    residual_image_star1 = psf_phot.get_residual_image()\n",
    "    residual_aper_tbl = aperture_photometry(residual_image_star1, aperture)\n",
    "    residual_fluxes.append(residual_aper_tbl['aperture_sum'])\n",
    "    \n",
    "    print(i, time.time() - start_time)"
   ]
  },
  {
   "cell_type": "code",
   "execution_count": 5,
   "metadata": {},
   "outputs": [],
   "source": [
    "times = Time(times, format='jd', scale='tcb')\n",
    "psf_fluxes = np.array(psf_fluxes)\n",
    "psf_uncertainties = np.array(psf_uncertainties)\n",
    "aperture_fluxes = np.array(aperture_fluxes)\n",
    "residual_fluxes = np.array(residual_fluxes)"
   ]
  },
  {
   "cell_type": "code",
   "execution_count": 6,
   "metadata": {},
   "outputs": [
    {
     "data": {
      "text/plain": [
       "(0.96, 1.05)"
      ]
     },
     "execution_count": 6,
     "metadata": {},
     "output_type": "execute_result"
    },
    {
     "data": {
      "image/png": "[encoded data removed]",
      "text/plain": [
       "<Figure size 432x288 with 1 Axes>"
      ]
     },
     "metadata": {
      "needs_background": "light"
     },
     "output_type": "display_data"
    }
   ],
   "source": [
    "plt.plot(times.jd, psf_fluxes / np.median(psf_fluxes), 'o')\n",
    "plt.ylim(0.96, 1.05)"
   ]
  },
  {
   "cell_type": "code",
   "execution_count": 7,
   "metadata": {},
   "outputs": [
    {
     "data": {
      "text/plain": [
       "(0.96, 1.05)"
      ]
     },
     "execution_count": 7,
     "metadata": {},
     "output_type": "execute_result"
    },
    {
     "data": {
      "image/png": "[encoded data removed]",
      "text/plain": [
       "<Figure size 432x288 with 1 Axes>"
      ]
     },
     "metadata": {
      "needs_background": "light"
     },
     "output_type": "display_data"
    }
   ],
   "source": [
    "plt.plot(times.jd, aperture_fluxes / np.median(aperture_fluxes), 'o')\n",
    "plt.ylim(0.96, 1.05)"
   ]
  },
  {
   "cell_type": "code",
   "execution_count": 8,
   "metadata": {},
   "outputs": [
    {
     "data": {
      "text/plain": [
       "[<matplotlib.lines.Line2D at 0x1158cae10>]"
      ]
     },
     "execution_count": 8,
     "metadata": {},
     "output_type": "execute_result"
    },
    {
     "data": {
      "image/png": "[encoded data removed]",
      "text/plain": [
       "<Figure size 432x288 with 1 Axes>"
      ]
     },
     "metadata": {
      "needs_background": "light"
     },
     "output_type": "display_data"
    }
   ],
   "source": [
    "val = psf_fluxes + residual_fluxes\n",
    "plt.plot(times.jd, val / np.median(val), 'o')"
   ]
  },
  {
   "cell_type": "code",
   "execution_count": 9,
   "metadata": {},
   "outputs": [
    {
     "data": {
      "text/plain": [
       "[<matplotlib.lines.Line2D at 0xb18d65e48>]"
      ]
     },
     "execution_count": 9,
     "metadata": {},
     "output_type": "execute_result"
    },
    {
     "data": {
      "image/png": "[encoded data removed]",
      "text/plain": [
       "<Figure size 432x288 with 1 Axes>"
      ]
     },
     "metadata": {
      "needs_background": "light"
     },
     "output_type": "display_data"
    }
   ],
   "source": [
    "plt.plot(times.jd, residual_fluxes, 'o')"
   ]
  },
  {
   "cell_type": "code",
   "execution_count": null,
   "metadata": {},
   "outputs": [],
   "source": []
  }
 ],
 "metadata": {
  "kernelspec": {
   "display_name": "Python 3",
   "language": "python",
   "name": "python3"
  },
  "language_info": {
   "codemirror_mode": {
    "name": "ipython",
    "version": 3
   },
   "file_extension": ".py",
   "mimetype": "text/x-python",
   "name": "python",
   "nbconvert_exporter": "python",
   "pygments_lexer": "ipython3",
   "version": "3.7.3"
  }
 },
 "nbformat": 4,
 "nbformat_minor": 4
}
