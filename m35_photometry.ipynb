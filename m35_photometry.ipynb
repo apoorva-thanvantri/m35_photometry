{
 "cells": [
  {
   "cell_type": "code",
   "execution_count": 1,
   "metadata": {},
   "outputs": [],
   "source": [
    "import glob\n",
    "import time\n",
    "import warnings\n",
    "\n",
    "from astropy.coordinates import SkyCoord\n",
    "from astropy.io import fits\n",
    "from astropy.modeling.fitting import LevMarLSQFitter\n",
    "from astropy.nddata import NDData\n",
    "from astropy.stats import sigma_clipped_stats, gaussian_sigma_to_fwhm\n",
    "from astropy.table import QTable\n",
    "from astropy.time import Time\n",
    "from astropy.utils.exceptions import AstropyUserWarning\n",
    "from astropy.visualization import simple_norm\n",
    "from astropy.wcs import WCS\n",
    "from photutils import extract_stars, EPSFBuilder, EPSFModel\n",
    "from photutils import DBSCANGroup, MMMBackground, BasicPSFPhotometry\n",
    "from photutils import CircularAperture, aperture_photometry"
   ]
  },
  {
   "cell_type": "code",
   "execution_count": 2,
   "metadata": {},
   "outputs": [],
   "source": [
    "stars_tbl = QTable.read('gaia_catalog.ecsv')\n",
    "epsf_data = fits.getdata('epsf.fits')\n",
    "epsf = EPSFModel(epsf_data, oversampling=4.)"
   ]
  },
  {
   "cell_type": "code",
   "execution_count": 3,
   "metadata": {},
   "outputs": [],
   "source": [
    "star_skycoord = SkyCoord(92.126041, 24.441154, unit='deg', frame='icrs')"
   ]
  },
  {
   "cell_type": "code",
   "execution_count": 5,
   "metadata": {},
   "outputs": [
    {
     "name": "stdout",
     "output_type": "stream",
     "text": [
      "0 1.098625898361206\n",
      "1 0.18659210205078125\n",
      "2 0.17896199226379395\n",
      "3 0.17410516738891602\n",
      "4 0.1770329475402832\n",
      "5 0.17832422256469727\n",
      "6 0.18549203872680664\n",
      "7 0.1716618537902832\n",
      "8 0.17736196517944336\n",
      "9 0.17379379272460938\n",
      "10 0.17805123329162598\n",
      "11 0.194868803024292\n",
      "12 0.17439889907836914\n",
      "13 0.16948294639587402\n",
      "14 0.17713522911071777\n",
      "15 0.17992091178894043\n",
      "16 0.1638188362121582\n",
      "17 0.18045806884765625\n",
      "18 0.16535615921020508\n",
      "19 0.16030597686767578\n",
      "20 0.17324590682983398\n",
      "21 0.1716020107269287\n",
      "22 0.17008018493652344\n",
      "23 0.1630849838256836\n",
      "24 0.17094802856445312\n",
      "25 0.17002296447753906\n",
      "26 0.1626439094543457\n",
      "27 0.16452288627624512\n",
      "28 0.16686201095581055\n",
      "29 0.16752099990844727\n",
      "30 0.16732311248779297\n",
      "31 0.16124582290649414\n",
      "32 0.16912269592285156\n",
      "33 0.16263818740844727\n",
      "34 0.1531238555908203\n",
      "35 0.1710371971130371\n",
      "36 0.16562294960021973\n",
      "37 0.16530466079711914\n",
      "38 0.16927599906921387\n",
      "39 0.18096613883972168\n",
      "40 0.16582512855529785\n",
      "41 0.1688368320465088\n",
      "42 0.18622589111328125\n",
      "43 0.18314099311828613\n",
      "44 0.19343304634094238\n",
      "45 0.1733262538909912\n",
      "46 0.1783008575439453\n",
      "47 0.16606688499450684\n",
      "48 0.17115426063537598\n",
      "49 0.18033409118652344\n",
      "50 0.1696639060974121\n",
      "51 0.17964577674865723\n",
      "52 0.1794278621673584\n",
      "53 0.17931008338928223\n",
      "54 0.1853499412536621\n",
      "55 0.18089914321899414\n",
      "56 0.17473101615905762\n",
      "57 0.16051411628723145\n",
      "58 0.18719696998596191\n",
      "59 0.1742568016052246\n",
      "60 0.17334699630737305\n",
      "61 0.17395401000976562\n",
      "63 0.17115187644958496\n",
      "64 0.17325711250305176\n",
      "65 0.18732523918151855\n",
      "66 0.19507193565368652\n",
      "67 0.17775607109069824\n",
      "68 0.17894625663757324\n",
      "69 0.1780080795288086\n",
      "70 0.18399691581726074\n",
      "71 0.1822373867034912\n",
      "72 0.172576904296875\n",
      "73 0.18299603462219238\n",
      "74 0.18081903457641602\n",
      "75 0.1836543083190918\n",
      "76 0.18084216117858887\n",
      "77 0.17059087753295898\n",
      "78 0.18222904205322266\n",
      "79 0.16777396202087402\n",
      "80 0.17787814140319824\n",
      "81 0.1807689666748047\n",
      "82 0.18918704986572266\n",
      "83 0.1859428882598877\n",
      "84 0.18849825859069824\n",
      "85 0.1707468032836914\n",
      "86 0.18558907508850098\n",
      "87 0.18695282936096191\n",
      "88 0.18834519386291504\n",
      "89 0.18742704391479492\n",
      "90 0.17470479011535645\n",
      "91 0.18362092971801758\n",
      "92 0.17726993560791016\n",
      "93 0.18119287490844727\n",
      "94 0.18242096900939941\n",
      "95 0.17825102806091309\n",
      "96 0.2075350284576416\n",
      "97 0.18616604804992676\n",
      "98 0.17921876907348633\n",
      "99 0.17517495155334473\n",
      "100 0.19326114654541016\n",
      "101 0.19811487197875977\n",
      "102 0.1884777545928955\n",
      "103 0.1840507984161377\n",
      "104 0.19377517700195312\n",
      "105 0.19658899307250977\n",
      "106 0.18811702728271484\n",
      "107 0.17505526542663574\n",
      "108 0.18519806861877441\n",
      "109 0.1862049102783203\n",
      "110 0.18058419227600098\n",
      "111 0.18351316452026367\n",
      "112 0.20079588890075684\n",
      "113 0.1806340217590332\n",
      "114 0.1971421241760254\n",
      "115 0.1923668384552002\n",
      "116 0.18718695640563965\n",
      "117 0.17868614196777344\n",
      "118 0.18520689010620117\n",
      "119 0.19679474830627441\n",
      "120 0.2074580192565918\n",
      "121 0.203596830368042\n",
      "122 0.18283915519714355\n",
      "123 0.19945693016052246\n",
      "124 0.1882939338684082\n",
      "125 0.19649100303649902\n",
      "126 0.19400906562805176\n",
      "127 0.20577692985534668\n",
      "128 0.18229031562805176\n",
      "129 0.19979286193847656\n",
      "130 0.19420790672302246\n",
      "131 0.1975550651550293\n",
      "132 0.2041940689086914\n",
      "133 0.19374418258666992\n",
      "134 0.18041110038757324\n",
      "135 0.19077706336975098\n",
      "136 0.19583415985107422\n",
      "137 0.1807260513305664\n",
      "138 0.19451689720153809\n",
      "139 0.1950359344482422\n",
      "140 0.17638087272644043\n",
      "141 0.18327021598815918\n",
      "142 0.17866086959838867\n",
      "143 0.18274307250976562\n",
      "144 0.1750659942626953\n",
      "145 0.1821739673614502\n",
      "146 0.20438122749328613\n",
      "147 0.1755661964416504\n",
      "148 0.20396995544433594\n",
      "149 0.2062208652496338\n",
      "150 0.20229387283325195\n",
      "151 0.20514988899230957\n",
      "152 0.18916606903076172\n",
      "153 0.19738316535949707\n",
      "154 0.1941843032836914\n",
      "155 0.20073413848876953\n",
      "156 0.19863486289978027\n",
      "157 0.19537997245788574\n",
      "158 0.19197893142700195\n",
      "159 0.2086169719696045\n",
      "160 0.1956470012664795\n",
      "161 0.18994808197021484\n",
      "162 0.2311108112335205\n",
      "163 0.20407819747924805\n",
      "164 0.17751312255859375\n",
      "165 0.18499302864074707\n",
      "166 0.1971571445465088\n",
      "167 0.2070150375366211\n",
      "168 0.18832683563232422\n",
      "169 0.19586706161499023\n",
      "170 0.18772220611572266\n",
      "171 0.19344878196716309\n",
      "172 0.19790101051330566\n",
      "173 0.1876819133758545\n",
      "174 0.18731212615966797\n",
      "175 0.19561290740966797\n",
      "176 0.18727397918701172\n",
      "177 0.19811177253723145\n",
      "178 0.1918652057647705\n",
      "179 0.20026111602783203\n",
      "180 0.20884108543395996\n",
      "181 0.18427300453186035\n",
      "182 0.19205403327941895\n",
      "183 0.19288897514343262\n",
      "184 0.18812799453735352\n",
      "185 0.2036430835723877\n",
      "186 0.18921923637390137\n",
      "187 0.19429612159729004\n",
      "188 0.19827485084533691\n",
      "189 0.18640828132629395\n",
      "190 0.179887056350708\n",
      "191 0.20898199081420898\n",
      "192 0.24346184730529785\n",
      "193 0.18168878555297852\n",
      "194 0.18992114067077637\n",
      "195 0.19475412368774414\n",
      "196 0.18513202667236328\n",
      "197 0.1933891773223877\n",
      "198 0.1884610652923584\n"
     ]
    }
   ],
   "source": [
    "times = []\n",
    "psf_fluxes = []\n",
    "psf_uncertainties = []\n",
    "aperture_fluxes = []\n",
    "residual_fluxes = []\n",
    "\n",
    "warnings.filterwarnings('ignore', category=AstropyUserWarning)\n",
    "\n",
    "filepaths = sorted(glob.glob('superstampImages/*'))\n",
    "for i, filepath in enumerate(filepaths):\n",
    "    if 'bjd2456768.8805' in filepath:\n",
    "        continue\n",
    "        \n",
    "    start_time = time.time()\n",
    "    \n",
    "    hdulist = fits.open(filepath)\n",
    "    data = hdulist[0].data\n",
    "    header = hdulist[0].header\n",
    "    wcs = WCS(header)\n",
    "    times.append(header['MIDTIME'])\n",
    "    \n",
    "    mean_val, median_val, std_val = sigma_clipped_stats(data, sigma=2.)\n",
    "    bkg = 2.5 * median_val - 1.5 * mean_val\n",
    "    data -= bkg\n",
    "    \n",
    "    grouper = DBSCANGroup(gaussian_sigma_to_fwhm)\n",
    "    \n",
    "    #epsf.normalization_correction = 1.0 / (epsf.oversampling[0] ** 2)\n",
    "    psf_model = epsf\n",
    "    \n",
    "    bkg_est = MMMBackground()\n",
    "    fitter = LevMarLSQFitter()\n",
    "   \n",
    "    psf_phot = BasicPSFPhotometry(group_maker=grouper, bkg_estimator=bkg_est,\n",
    "                                  psf_model=psf_model, fitter=fitter, fitshape=(7, 7),\n",
    "                                  aperture_radius=3)\n",
    "    \n",
    "    xpos, ypos = wcs.world_to_pixel(star_skycoord)\n",
    "    star_pos = QTable(names=['x_0', 'y_0'], data=[[xpos], [ypos]])\n",
    "\n",
    "    psf_tbl = psf_phot(data, init_guesses=star_pos)\n",
    "    psf_fluxes.append(psf_tbl['flux_fit'])\n",
    "    psf_uncertainties.append(psf_tbl['flux_unc'])\n",
    "                    \n",
    "    # perform aperture photometry on the residuals to account for what the model missed\n",
    "    position = (psf_tbl['x_fit'][0], psf_tbl['y_fit'][0])\n",
    "    aperture = CircularAperture(position, r=3.)\n",
    "    \n",
    "    aper_tbl = aperture_photometry(data, aperture)\n",
    "    aperture_fluxes.append(aper_tbl['aperture_sum'])\n",
    "    \n",
    "    residual_image_star1 = psf_phot.get_residual_image()\n",
    "    residual_aper_tbl = aperture_photometry(residual_image_star1, aperture)\n",
    "    residual_fluxes.append(residual_aper_tbl['aperture_sum'])\n",
    "    \n",
    "    print(i, time.time() - start_time)"
   ]
  },
  {
   "cell_type": "code",
   "execution_count": 6,
   "metadata": {},
   "outputs": [],
   "source": [
    "times = Time(times, format='jd', scale='tcb')\n",
    "psf_fluxes = np.array(psf_fluxes)\n",
    "psf_uncertainties = np.array(psf_uncertainties)\n",
    "aperture_fluxes = np.array(aperture_fluxes)\n",
    "residual_fluxes = np.array(residual_fluxes)"
   ]
  },
  {
   "cell_type": "code",
   "execution_count": 7,
   "metadata": {},
   "outputs": [
    {
     "data": {
      "text/plain": [
       "(0.96, 1.05)"
      ]
     },
     "execution_count": 7,
     "metadata": {},
     "output_type": "execute_result"
    },
    {
     "data": {
      "image/png": "[encoded data removed]",
      "text/plain": [
       "<Figure size 432x288 with 1 Axes>"
      ]
     },
     "metadata": {
      "needs_background": "light"
     },
     "output_type": "display_data"
    }
   ],
   "source": [
    "plt.plot(times.jd, psf_fluxes / np.median(psf_fluxes), 'o')\n",
    "plt.ylim(0.96, 1.05)"
   ]
  },
  {
   "cell_type": "code",
   "execution_count": 8,
   "metadata": {},
   "outputs": [
    {
     "data": {
      "text/plain": [
       "(0.96, 1.05)"
      ]
     },
     "execution_count": 8,
     "metadata": {},
     "output_type": "execute_result"
    },
    {
     "data": {
      "image/png": "[encoded data removed]",
      "text/plain": [
       "<Figure size 432x288 with 1 Axes>"
      ]
     },
     "metadata": {
      "needs_background": "light"
     },
     "output_type": "display_data"
    }
   ],
   "source": [
    "plt.plot(times.jd, aperture_fluxes / np.median(aperture_fluxes), 'o')\n",
    "plt.ylim(0.96, 1.05)"
   ]
  },
  {
   "cell_type": "code",
   "execution_count": 9,
   "metadata": {},
   "outputs": [
    {
     "data": {
      "text/plain": [
       "[<matplotlib.lines.Line2D at 0x13a708160>]"
      ]
     },
     "execution_count": 9,
     "metadata": {},
     "output_type": "execute_result"
    },
    {
     "data": {
      "image/png": "[encoded data removed]",
      "text/plain": [
       "<Figure size 432x288 with 1 Axes>"
      ]
     },
     "metadata": {
      "needs_background": "light"
     },
     "output_type": "display_data"
    }
   ],
   "source": [
    "val = psf_fluxes + residual_fluxes\n",
    "plt.plot(times.jd, val / np.median(val), 'o')"
   ]
  },
  {
   "cell_type": "code",
   "execution_count": 10,
   "metadata": {},
   "outputs": [
    {
     "data": {
      "text/plain": [
       "[<matplotlib.lines.Line2D at 0x13a74f250>]"
      ]
     },
     "execution_count": 10,
     "metadata": {},
     "output_type": "execute_result"
    },
    {
     "data": {
      "image/png": "[encoded data removed]",
      "text/plain": [
       "<Figure size 432x288 with 1 Axes>"
      ]
     },
     "metadata": {
      "needs_background": "light"
     },
     "output_type": "display_data"
    }
   ],
   "source": [
    "plt.plot(times.jd, residual_fluxes, 'o')"
   ]
  },
  {
   "cell_type": "code",
   "execution_count": null,
   "metadata": {},
   "outputs": [],
   "source": []
  }
 ],
 "metadata": {
  "kernelspec": {
   "display_name": "Python 3",
   "language": "python",
   "name": "python3"
  },
  "language_info": {
   "codemirror_mode": {
    "name": "ipython",
    "version": 3
   },
   "file_extension": ".py",
   "mimetype": "text/x-python",
   "name": "python",
   "nbconvert_exporter": "python",
   "pygments_lexer": "ipython3",
   "version": "3.8.5"
  }
 },
 "nbformat": 4,
 "nbformat_minor": 4
}
